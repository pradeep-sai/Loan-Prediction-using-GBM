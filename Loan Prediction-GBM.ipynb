{
 "cells": [
  {
   "cell_type": "code",
   "execution_count": 1,
   "metadata": {},
   "outputs": [],
   "source": [
    "#Import libraries:\n",
    "import pandas as pd\n",
    "import numpy as np\n",
    "from sklearn.ensemble import GradientBoostingClassifier  #GBM algorithm\n",
    "from sklearn import metrics\n",
    "from sklearn import preprocessing\n",
    "from sklearn.model_selection import GridSearchCV,train_test_split  \n",
    "import matplotlib.pylab as plt\n",
    "from datetime import date \n",
    "%matplotlib inline\n",
    "from matplotlib.pylab import rcParams\n",
    "rcParams['figure.figsize'] = 12, 4"
   ]
  },
  {
   "cell_type": "code",
   "execution_count": 2,
   "metadata": {},
   "outputs": [],
   "source": [
    "### Reading the train data\n",
    "train=pd.read_csv(\"Train.csv\",encoding = \"ISO-8859-1\")"
   ]
  },
  {
   "cell_type": "markdown",
   "metadata": {},
   "source": [
    "\n",
    "1. Drop City Varibale because of too many variables\n",
    "2. Convert **DOB** to **Age** COLUMN and Drop **DOB** column\n",
    "3. Create a **EMI_Loan_Submitted_Missing** which is 1 f EMI_Loan_Submitted is missing else 0, drop variable **EMI_Loan_Submitted** dropped\n",
    "4. Drop **EmployerName** because of too many categories\n",
    "5. IMpute **Existing_EMI** with 0 (median) since only 111 values ARE missing\n",
    "6. Create **Interest_Rate_Missing** which is 1 if Interest_Rate was missing else 0 | Drop Original variable **Interest_Rate**\n",
    "7. Drop **Lead_Creation_Date** because made little intuitive impact on outcome\n",
    "8. Impute **Loan_Amount_Applied, Loan_Tenure_Applied** with median values\n",
    "9. Create **Loan_Amount_Submitted_Missing** which is 1 if Loan_Amount_Submitted was missing else 0 , drop Original variable **Loan_Amount_Submitted**\n",
    "10. Create **Loan_Tenure_Submitted_Missing** which is 1 if Loan_Tenure_Submitted was missing else 0, drop Original variable **Loan_Tenure_Submitted**\n",
    "11. Drop **LoggedIn, Salary_Account**\n",
    "12. Create **Processing_Fee_Missing** which is 1 if Processing_Fee was missing else 0, drop Original variable **Processing_Fee**\n",
    "13. Source – top 2 kept as is and all others combined into different category\n",
    "14. Perform Numerical and One-Hot-Coding"
   ]
  },
  {
   "cell_type": "code",
   "execution_count": 3,
   "metadata": {},
   "outputs": [],
   "source": [
    "# 1. Dropping city variables\n",
    "train= train.drop(['City'],axis=1)\n",
    "\n",
    "# 2. Convert DOB to Age COLUMN and Drop DOB column\n",
    "train['Age']=2015-(1900+train['DOB'].str[-2:].astype(int))\n",
    "train=train.drop(['DOB'],axis=1)\n",
    "\n",
    "# 3. Create a EMI_Loan_Submitted_Missing which is 1 if EMI_Loan_Submitted is missing else 0, drop variable EMI_Loan_Submitted dropped\n",
    "train['EMI_Loan_Submitted_Missing']=np.where((train['EMI_Loan_Submitted'].notnull()),0,1)\n",
    "train=train.drop(['EMI_Loan_Submitted'],axis=1)\n",
    "\n",
    "# 4. Drop EmployerName because of too many categories\n",
    "train=train.drop(['Employer_Name'],axis=1)\n",
    "\n",
    "# 5. IMpute Existing_EMI with 0 (median) since only 111 values ARE missing\n",
    "train['Existing_EMI']=np.where(train['Existing_EMI'].isnull(),train['Existing_EMI'].median(),train['Existing_EMI'])"
   ]
  },
  {
   "cell_type": "code",
   "execution_count": 4,
   "metadata": {},
   "outputs": [],
   "source": [
    "# 6. Create Interest_Rate_Missing which is 1 if Interest_Rate was missing else 0 | Drop Original variable Interest_Rate\n",
    "train['Interest_Rate_Missing']=np.where((train['Interest_Rate'].notnull()),0,1)\n",
    "train=train.drop(['Interest_Rate'],axis=1)\n",
    "\n",
    "# 7. Drop Lead_Creation_Date because made little intuitive impact on outcome\n",
    "train=train.drop(['Lead_Creation_Date'],axis=1)\n",
    "\n",
    "# 8. Impute Loan_Amount_Applied, Loan_Tenure_Applied with median values\n",
    "train['Loan_Amount_Applied']=np.where(train['Loan_Amount_Applied'].isnull(),train['Loan_Amount_Applied'].median(),train['Loan_Amount_Applied'])\n",
    "train['Loan_Tenure_Applied']=np.where(train['Loan_Tenure_Applied'].isnull(),train['Loan_Tenure_Applied'].median(),train['Loan_Tenure_Applied'])\n",
    "\n",
    "# 9. Create Loan_Amount_Submitted_Missing which is 1 if Loan_Amount_Submitted was missing else 0 , drop Original variable Loan_Amount_Submitted\n",
    "train['Loan_Amount_Submitted_Missing']=np.where((train['Loan_Amount_Submitted'].notnull()),0,1)\n",
    "train=train.drop(['Loan_Amount_Submitted'],axis=1)\n",
    "\n",
    "# 10. Create Loan_Tenure_Submitted_Missing which is 1 if Loan_Tenure_Submitted was missing else 0, drop Original variable Loan_Tenure_Submitted\n",
    "train['Loan_Tenure_Submitted_Missing']=np.where((train['Loan_Tenure_Submitted'].notnull()),0,1)\n",
    "train=train.drop(['Loan_Tenure_Submitted'],axis=1)"
   ]
  },
  {
   "cell_type": "code",
   "execution_count": 5,
   "metadata": {},
   "outputs": [],
   "source": [
    "# 11. Drop LoggedIn, Salary_Account\n",
    "train=train.drop(['LoggedIn','Salary_Account'],axis=1)\n",
    "\n",
    "# 12. Create Processing_Fee_Missing which is 1 if Processing_Fee was missing else 0, drop Original variable Processing_Fee\n",
    "train['Processing_Fee_Missing']=np.where((train['Processing_Fee'].notnull()),0,1)\n",
    "train=train.drop(['Processing_Fee'],axis=1)"
   ]
  },
  {
   "cell_type": "code",
   "execution_count": 6,
   "metadata": {},
   "outputs": [
    {
     "data": {
      "text/plain": [
       "S122    38567\n",
       "S133    29885\n",
       "S159     5599\n",
       "S143     4332\n",
       "S127     1931\n",
       "S137     1724\n",
       "S134     1301\n",
       "S161      769\n",
       "S151      720\n",
       "S157      650\n",
       "S153      494\n",
       "S156      308\n",
       "S144      299\n",
       "S158      208\n",
       "S123       73\n",
       "S141       57\n",
       "S162       36\n",
       "S124       24\n",
       "S160       11\n",
       "S150       10\n",
       "S155        4\n",
       "S129        3\n",
       "S136        3\n",
       "S139        3\n",
       "S138        3\n",
       "S135        2\n",
       "S154        1\n",
       "S130        1\n",
       "S125        1\n",
       "S140        1\n",
       "Name: Source, dtype: int64"
      ]
     },
     "execution_count": 6,
     "metadata": {},
     "output_type": "execute_result"
    }
   ],
   "source": [
    "train['Source'].value_counts()"
   ]
  },
  {
   "cell_type": "markdown",
   "metadata": {},
   "source": [
    "We can see that the top 2 occurred names are 'S122' and 'S133'"
   ]
  },
  {
   "cell_type": "code",
   "execution_count": 7,
   "metadata": {},
   "outputs": [],
   "source": [
    "# 13. Source – top 2 kept as is and all others combined into different category\n",
    "train[\"Source\"].replace({\"S122\": 1, \"S133\": 2}, inplace=True)\n",
    "train['Source']=np.where((train['Source']==1),1,np.where(train['Source']==2,2,0))"
   ]
  },
  {
   "cell_type": "code",
   "execution_count": 8,
   "metadata": {},
   "outputs": [],
   "source": [
    "# 14. Perform Numerical and One-Hot-Coding\n",
    "train[\"Gender\"].replace({\"Male\": 1, \"Female\": 0}, inplace=True)\n",
    "train[\"Mobile_Verified\"].replace({\"Y\": 1, \"N\": 0}, inplace=True)\n",
    "train[\"Filled_Form\"].replace({\"Y\": 1, \"N\": 0}, inplace=True)\n",
    "train[\"Device_Type\"].replace({\"Web-browser\": 1, \"Mobile\": 0}, inplace=True)\n",
    "\n",
    "le = preprocessing.LabelEncoder()\n",
    "train['Var1']=le.fit_transform(train['Var1'])\n",
    "train['Var2']=le.fit_transform(train['Var2'])\n"
   ]
  },
  {
   "cell_type": "code",
   "execution_count": 9,
   "metadata": {},
   "outputs": [
    {
     "data": {
      "text/plain": [
       "(87020, 21)"
      ]
     },
     "execution_count": 9,
     "metadata": {},
     "output_type": "execute_result"
    }
   ],
   "source": [
    "train.shape"
   ]
  },
  {
   "cell_type": "markdown",
   "metadata": {},
   "source": [
    "### Creating a base gbm model"
   ]
  },
  {
   "cell_type": "code",
   "execution_count": 10,
   "metadata": {},
   "outputs": [],
   "source": [
    "#### Creating datatset with Dependent and indepent varaibles\n",
    "Dependent=train[\"Disbursed\"]\n",
    "IndependentCols=train.columns.values[np.invert (pd.Series(train.columns.values).isin([\"Disbursed\",\"ID\"]))]\n",
    "Independent=train[IndependentCols]\n",
    "\n",
    "## fitting a base gbm model\n",
    "gbm0 = GradientBoostingClassifier(random_state=10) ## initialising base gbm model\n",
    "gbm=gbm0.fit(Independent, Dependent)"
   ]
  },
  {
   "cell_type": "code",
   "execution_count": 11,
   "metadata": {},
   "outputs": [
    {
     "name": "stdout",
     "output_type": "stream",
     "text": [
      "Accuracy: 0.9855665364284073\n",
      "AUC: 0.8621716258368041\n"
     ]
    }
   ],
   "source": [
    "#1. Print Accuracy\n",
    "print(\"Accuracy:\",gbm0.score(Independent, Dependent))\n",
    "\n",
    "#2. Print AUC\n",
    "from sklearn.metrics import roc_auc_score\n",
    "Dependent_pred=gbm0.predict(Independent)\n",
    "print(\"AUC:\",roc_auc_score(Dependent, gbm0.decision_function(Independent)))\n"
   ]
  },
  {
   "cell_type": "code",
   "execution_count": 12,
   "metadata": {},
   "outputs": [],
   "source": [
    "# 3. Create the 5 fold cross validation on auc score, calculate the mean,std dev, min and max of all the 5 folds\n",
    "from sklearn.model_selection import cross_validate\n",
    "cv_results = cross_validate(gbm0, Independent, Dependent,scoring='roc_auc', cv=5)\n",
    "cross_val_auc=cv_results['test_score']"
   ]
  },
  {
   "cell_type": "code",
   "execution_count": 13,
   "metadata": {},
   "outputs": [
    {
     "name": "stdout",
     "output_type": "stream",
     "text": [
      "Mean: 0.8317008138934963\n",
      "Standard Deviation: 0.010009503123274902\n",
      "Min: 0.8204275613507495\n",
      "Max: 0.8458905166825026\n"
     ]
    }
   ],
   "source": [
    "print(\"Mean:\", cross_val_auc.mean())\n",
    "print(\"Standard Deviation:\", cross_val_auc.std())\n",
    "print(\"Min:\", cross_val_auc.min())\n",
    "print(\"Max:\", cross_val_auc.max())"
   ]
  },
  {
   "cell_type": "code",
   "execution_count": 14,
   "metadata": {},
   "outputs": [
    {
     "data": {
      "text/plain": [
       "Text(0, 0.5, 'FEATURE NAMES')"
      ]
     },
     "execution_count": 14,
     "metadata": {},
     "output_type": "execute_result"
    },
    {
     "data": {
      "image/png": "[encoded data removed]",
      "text/plain": [
       "<Figure size 720x576 with 1 Axes>"
      ]
     },
     "metadata": {
      "needs_background": "light"
     },
     "output_type": "display_data"
    }
   ],
   "source": [
    "# 4. print feature importance in ascending order and plot it\n",
    "imp_features=gbm.feature_importances_\n",
    "\n",
    "columns=Independent.columns\n",
    "df_imp_features = pd.DataFrame({\"features\":columns}).join(pd.DataFrame({\"weights\":imp_features}))\n",
    "df_imp_features.sort_values(by=['weights'], ascending=False,inplace=True)\n",
    "\n",
    "import seaborn as sns\n",
    "plt.figure(figsize=(10,8))\n",
    "sns.barplot(x=df_imp_features['weights'], y=df_imp_features['features'])\n",
    "plt.title('GRADIENT BOOST FEATURE IMPORTANCE')\n",
    "plt.xlabel('FEATURE IMPORTANCE')\n",
    "plt.ylabel('FEATURE NAMES')"
   ]
  },
  {
   "cell_type": "code",
   "execution_count": 15,
   "metadata": {},
   "outputs": [
    {
     "data": {
      "text/plain": [
       "({'mean_fit_time': array([0.7587718 , 1.11020966, 1.46322894, 1.85302634, 2.24981265,\n",
       "         2.61060896, 2.93282561]),\n",
       "  'std_fit_time': array([0.0041649 , 0.01396627, 0.0202951 , 0.02712452, 0.02073448,\n",
       "         0.0442223 , 0.0580384 ]),\n",
       "  'mean_score_time': array([0.01875572, 0.02295079, 0.02749915, 0.03265891, 0.03691235,\n",
       "         0.04192595, 0.04499226]),\n",
       "  'std_score_time': array([0.00102831, 0.00107918, 0.00150744, 0.00114311, 0.00225945,\n",
       "         0.00254122, 0.00537812]),\n",
       "  'param_n_estimators': masked_array(data=[20, 30, 40, 50, 60, 70, 80],\n",
       "               mask=[False, False, False, False, False, False, False],\n",
       "         fill_value='?',\n",
       "              dtype=object),\n",
       "  'params': [{'n_estimators': 20},\n",
       "   {'n_estimators': 30},\n",
       "   {'n_estimators': 40},\n",
       "   {'n_estimators': 50},\n",
       "   {'n_estimators': 60},\n",
       "   {'n_estimators': 70},\n",
       "   {'n_estimators': 80}],\n",
       "  'split0_test_score': array([0.81910746, 0.81905833, 0.82075549, 0.81958128, 0.8179376 ,\n",
       "         0.81581552, 0.81227107]),\n",
       "  'split1_test_score': array([0.82414178, 0.82647724, 0.82765811, 0.8299961 , 0.82878573,\n",
       "         0.82933989, 0.83116102]),\n",
       "  'split2_test_score': array([0.84297398, 0.8435387 , 0.84541613, 0.84564355, 0.84503561,\n",
       "         0.84530934, 0.8424965 ]),\n",
       "  'split3_test_score': array([0.85325572, 0.85200303, 0.8523967 , 0.85124463, 0.85084364,\n",
       "         0.85116985, 0.85141053]),\n",
       "  'split4_test_score': array([0.82753136, 0.82988089, 0.82922516, 0.82898803, 0.82814661,\n",
       "         0.82695487, 0.82885768]),\n",
       "  'mean_test_score': array([0.83340206, 0.83419164, 0.83509032, 0.83509072, 0.83414984,\n",
       "         0.83371789, 0.83323936]),\n",
       "  'std_test_score': array([0.01273062, 0.01193084, 0.01184279, 0.011628  , 0.0120402 ,\n",
       "         0.01284004, 0.01325952]),\n",
       "  'rank_test_score': array([6, 3, 2, 1, 4, 5, 7], dtype=int32)},\n",
       " {'n_estimators': 50},\n",
       " 0.8350907151614886)"
      ]
     },
     "execution_count": 15,
     "metadata": {},
     "output_type": "execute_result"
    }
   ],
   "source": [
    "### Creating Models by  tuning n_estimators  by varying from its values from 20 to 80 in steps of 10\n",
    "param_test1 = {'n_estimators':np.arange(20,81,10)}\n",
    "gsearch1 = GridSearchCV(estimator = GradientBoostingClassifier(learning_rate=0.1, min_samples_split=500,min_samples_leaf=50,max_depth=8,max_features='sqrt',subsample=0.8,random_state=10), param_grid = param_test1, scoring='roc_auc',n_jobs=4, cv=5)\n",
    "gsearch1.fit(Independent,Dependent)\n",
    "gsearch1.cv_results_, gsearch1.best_params_, gsearch1.best_score_"
   ]
  },
  {
   "cell_type": "markdown",
   "metadata": {},
   "source": [
    "#####  Tune the model with parameters  max_depth and min_samples_split\n",
    "##### from above take the n_estimators with max mean AUC on cv sample and use it for tuning the model on two parameters below\n",
    "##### (i) max depth varying from 5 and 15 in steps of 2\n",
    "##### (ii) min_samples_split varying from 200 and 1000 in steps of 200\n",
    "##### store the output of tuned model in object \"gsearch2\""
   ]
  },
  {
   "cell_type": "code",
   "execution_count": 16,
   "metadata": {},
   "outputs": [
    {
     "data": {
      "text/plain": [
       "GridSearchCV(cv=5,\n",
       "             estimator=GradientBoostingClassifier(max_depth={'n_estimators': array([20, 30, 40, 50, 60, 70, 80])},\n",
       "                                                  max_features='sqrt',\n",
       "                                                  min_samples_leaf=50,\n",
       "                                                  n_estimators=50,\n",
       "                                                  random_state=10,\n",
       "                                                  subsample=0.8),\n",
       "             n_jobs=4,\n",
       "             param_grid={'max_depth': array([ 5,  7,  9, 11, 13]),\n",
       "                         'min_samples_split': array([200, 400, 600, 800])},\n",
       "             scoring='roc_auc')"
      ]
     },
     "execution_count": 16,
     "metadata": {},
     "output_type": "execute_result"
    }
   ],
   "source": [
    "param_test2 = {'min_samples_split':np.arange(200,1000,200), 'max_depth':np.arange(5,15,2)}\n",
    "gsearch2 = GridSearchCV(estimator = GradientBoostingClassifier(learning_rate=0.1,n_estimators=gsearch1.best_params_['n_estimators'],min_samples_leaf=50,max_depth=param_test1,max_features='sqrt',subsample=0.8,random_state=10), param_grid = param_test2, scoring='roc_auc',n_jobs=4, cv=5)\n",
    "gsearch2.fit(Independent,Dependent)"
   ]
  },
  {
   "cell_type": "code",
   "execution_count": 17,
   "metadata": {},
   "outputs": [
    {
     "data": {
      "text/plain": [
       "({'mean_fit_time': array([1.86694264, 1.88050065, 1.88815346, 1.88601909, 1.88513193,\n",
       "         1.85966434, 1.92305417, 1.91999846, 1.9190393 , 1.90055137,\n",
       "         1.89190931, 1.88068151, 1.94384141, 1.92865863, 1.93177919,\n",
       "         1.91351252, 1.89905257, 1.89097633, 1.95092077, 1.94865842,\n",
       "         1.93448086, 1.9345994 , 1.92685881, 1.90761175, 1.96673479,\n",
       "         1.94365745, 1.93871641, 1.93405943, 1.92439079, 1.73874907]),\n",
       "  'std_fit_time': array([0.03175215, 0.02100781, 0.02078495, 0.01983003, 0.01896432,\n",
       "         0.0203221 , 0.01695563, 0.01132972, 0.01312094, 0.0248034 ,\n",
       "         0.02506122, 0.01896498, 0.01923879, 0.02420163, 0.01538725,\n",
       "         0.02018636, 0.0283771 , 0.02069657, 0.01791019, 0.01785543,\n",
       "         0.01597766, 0.02165455, 0.01968681, 0.01072809, 0.02535753,\n",
       "         0.01531167, 0.02145019, 0.02254659, 0.02109509, 0.20805426]),\n",
       "  'mean_score_time': array([0.03247533, 0.03264246, 0.0321589 , 0.03210411, 0.03225698,\n",
       "         0.03199964, 0.03304167, 0.03280506, 0.03301272, 0.03274918,\n",
       "         0.0325942 , 0.03262582, 0.03394599, 0.03285813, 0.03330865,\n",
       "         0.03278399, 0.03373313, 0.03268046, 0.03398013, 0.0337214 ,\n",
       "         0.0338367 , 0.03388505, 0.03386865, 0.03278174, 0.03399944,\n",
       "         0.03345423, 0.03347945, 0.03370814, 0.03338161, 0.03070879]),\n",
       "  'std_score_time': array([0.00249416, 0.00215916, 0.00198266, 0.00188518, 0.00165452,\n",
       "         0.00132335, 0.00154667, 0.00227769, 0.00163876, 0.00165195,\n",
       "         0.00202561, 0.00169593, 0.0015722 , 0.00244109, 0.0020565 ,\n",
       "         0.00140084, 0.00174115, 0.00190394, 0.00159646, 0.00204004,\n",
       "         0.00144474, 0.00160381, 0.0018978 , 0.00218095, 0.00245752,\n",
       "         0.00206665, 0.00232607, 0.00217253, 0.00194895, 0.0052503 ]),\n",
       "  'param_min_samples_leaf': masked_array(data=[30, 30, 30, 30, 30, 30, 40, 40, 40, 40, 40, 40, 50, 50,\n",
       "                     50, 50, 50, 50, 60, 60, 60, 60, 60, 60, 70, 70, 70, 70,\n",
       "                     70, 70],\n",
       "               mask=[False, False, False, False, False, False, False, False,\n",
       "                     False, False, False, False, False, False, False, False,\n",
       "                     False, False, False, False, False, False, False, False,\n",
       "                     False, False, False, False, False, False],\n",
       "         fill_value='?',\n",
       "              dtype=object),\n",
       "  'param_min_samples_split': masked_array(data=[1000, 1200, 1400, 1600, 1800, 2000, 1000, 1200, 1400,\n",
       "                     1600, 1800, 2000, 1000, 1200, 1400, 1600, 1800, 2000,\n",
       "                     1000, 1200, 1400, 1600, 1800, 2000, 1000, 1200, 1400,\n",
       "                     1600, 1800, 2000],\n",
       "               mask=[False, False, False, False, False, False, False, False,\n",
       "                     False, False, False, False, False, False, False, False,\n",
       "                     False, False, False, False, False, False, False, False,\n",
       "                     False, False, False, False, False, False],\n",
       "         fill_value='?',\n",
       "              dtype=object),\n",
       "  'params': [{'min_samples_leaf': 30, 'min_samples_split': 1000},\n",
       "   {'min_samples_leaf': 30, 'min_samples_split': 1200},\n",
       "   {'min_samples_leaf': 30, 'min_samples_split': 1400},\n",
       "   {'min_samples_leaf': 30, 'min_samples_split': 1600},\n",
       "   {'min_samples_leaf': 30, 'min_samples_split': 1800},\n",
       "   {'min_samples_leaf': 30, 'min_samples_split': 2000},\n",
       "   {'min_samples_leaf': 40, 'min_samples_split': 1000},\n",
       "   {'min_samples_leaf': 40, 'min_samples_split': 1200},\n",
       "   {'min_samples_leaf': 40, 'min_samples_split': 1400},\n",
       "   {'min_samples_leaf': 40, 'min_samples_split': 1600},\n",
       "   {'min_samples_leaf': 40, 'min_samples_split': 1800},\n",
       "   {'min_samples_leaf': 40, 'min_samples_split': 2000},\n",
       "   {'min_samples_leaf': 50, 'min_samples_split': 1000},\n",
       "   {'min_samples_leaf': 50, 'min_samples_split': 1200},\n",
       "   {'min_samples_leaf': 50, 'min_samples_split': 1400},\n",
       "   {'min_samples_leaf': 50, 'min_samples_split': 1600},\n",
       "   {'min_samples_leaf': 50, 'min_samples_split': 1800},\n",
       "   {'min_samples_leaf': 50, 'min_samples_split': 2000},\n",
       "   {'min_samples_leaf': 60, 'min_samples_split': 1000},\n",
       "   {'min_samples_leaf': 60, 'min_samples_split': 1200},\n",
       "   {'min_samples_leaf': 60, 'min_samples_split': 1400},\n",
       "   {'min_samples_leaf': 60, 'min_samples_split': 1600},\n",
       "   {'min_samples_leaf': 60, 'min_samples_split': 1800},\n",
       "   {'min_samples_leaf': 60, 'min_samples_split': 2000},\n",
       "   {'min_samples_leaf': 70, 'min_samples_split': 1000},\n",
       "   {'min_samples_leaf': 70, 'min_samples_split': 1200},\n",
       "   {'min_samples_leaf': 70, 'min_samples_split': 1400},\n",
       "   {'min_samples_leaf': 70, 'min_samples_split': 1600},\n",
       "   {'min_samples_leaf': 70, 'min_samples_split': 1800},\n",
       "   {'min_samples_leaf': 70, 'min_samples_split': 2000}],\n",
       "  'split0_test_score': array([0.82361413, 0.82523404, 0.82109375, 0.82192867, 0.82461858,\n",
       "         0.82538039, 0.8226231 , 0.8185611 , 0.82096945, 0.82516207,\n",
       "         0.82128291, 0.81975448, 0.82455614, 0.81856867, 0.8204426 ,\n",
       "         0.82067342, 0.82345906, 0.82055738, 0.82536007, 0.82634972,\n",
       "         0.82109318, 0.82218383, 0.82111946, 0.82135098, 0.82305939,\n",
       "         0.82685131, 0.82367772, 0.82080806, 0.82343392, 0.8194751 ]),\n",
       "  'split1_test_score': array([0.83008413, 0.82724111, 0.82804596, 0.83205252, 0.82770747,\n",
       "         0.82262379, 0.82784899, 0.82770563, 0.82821618, 0.83001194,\n",
       "         0.82916531, 0.83003283, 0.82868529, 0.830615  , 0.82973302,\n",
       "         0.82862882, 0.82639253, 0.82962799, 0.82881121, 0.8278933 ,\n",
       "         0.83003983, 0.82365028, 0.82775005, 0.82819621, 0.82692098,\n",
       "         0.82651603, 0.82960768, 0.8283833 , 0.82769679, 0.82665274]),\n",
       "  'split2_test_score': array([0.84677515, 0.84409141, 0.84797524, 0.8488569 , 0.8509023 ,\n",
       "         0.84628933, 0.84614503, 0.84539841, 0.84696884, 0.84957769,\n",
       "         0.84924737, 0.84615166, 0.84593945, 0.846754  , 0.84840195,\n",
       "         0.84942025, 0.84912594, 0.84829356, 0.84534432, 0.84658306,\n",
       "         0.84825549, 0.8466862 , 0.85217248, 0.84775674, 0.84759953,\n",
       "         0.84767453, 0.84659907, 0.84765212, 0.85165327, 0.84720712]),\n",
       "  'split3_test_score': array([0.84748222, 0.8496583 , 0.85500029, 0.85230946, 0.84873914,\n",
       "         0.852057  , 0.84909804, 0.84707357, 0.85199594, 0.84891419,\n",
       "         0.85091293, 0.85168369, 0.85248634, 0.84876646, 0.85061245,\n",
       "         0.85066791, 0.85225275, 0.85256009, 0.84919272, 0.84847559,\n",
       "         0.85137692, 0.8510698 , 0.85014973, 0.85009553, 0.84713371,\n",
       "         0.84784433, 0.85488138, 0.85133656, 0.85122187, 0.85177721]),\n",
       "  'split4_test_score': array([0.83261643, 0.83119876, 0.83646883, 0.82997591, 0.83741498,\n",
       "         0.83373409, 0.83607093, 0.83608236, 0.83558534, 0.83139862,\n",
       "         0.83473443, 0.83423718, 0.83216068, 0.83482156, 0.83465302,\n",
       "         0.83469293, 0.83393224, 0.83662627, 0.83464388, 0.83249112,\n",
       "         0.83284625, 0.83389748, 0.83555595, 0.8358083 , 0.83782922,\n",
       "         0.8357318 , 0.8314176 , 0.8326074 , 0.83621786, 0.83702131]),\n",
       "  'mean_test_score': array([0.83611441, 0.83548472, 0.83771681, 0.83702469, 0.83787649,\n",
       "         0.83601692, 0.83635722, 0.83496421, 0.83674715, 0.8370129 ,\n",
       "         0.83706859, 0.83637197, 0.83676558, 0.83590514, 0.83676861,\n",
       "         0.83681667, 0.8370325 , 0.83753306, 0.83667044, 0.83635856,\n",
       "         0.83672233, 0.83549752, 0.83734954, 0.83664155, 0.83650857,\n",
       "         0.8369236 , 0.83723669, 0.83615749, 0.83804474, 0.8364267 ]),\n",
       "  'std_test_score': array([0.00946293, 0.00965783, 0.01245282, 0.01162689, 0.01064953,\n",
       "         0.01149373, 0.01019046, 0.01075647, 0.01148975, 0.01020285,\n",
       "         0.01146374, 0.01141029, 0.01064771, 0.0110709 , 0.01137981,\n",
       "         0.01168642, 0.01170441, 0.01177358, 0.00922868, 0.00936117,\n",
       "         0.01141684, 0.01172906, 0.0121848 , 0.01104877, 0.01010395,\n",
       "         0.00944493, 0.01161808, 0.011586  , 0.01168523, 0.01212515]),\n",
       "  'rank_test_score': array([25, 29,  3,  9,  2, 26, 23, 30, 15, 10,  7, 21, 14, 27, 13, 12,  8,\n",
       "          4, 17, 22, 16, 28,  5, 18, 19, 11,  6, 24,  1, 20], dtype=int32)},\n",
       " {'min_samples_leaf': 70, 'min_samples_split': 1800},\n",
       " 0.8380447429462144)"
      ]
     },
     "execution_count": 17,
     "metadata": {},
     "output_type": "execute_result"
    }
   ],
   "source": [
    "## Tuning the Model with best max depth from above and varying \n",
    "## (i)min_samples_split':range(1000,2100,200), \n",
    "## (i)'min_samples_leaf':range(30,71,10)\n",
    "\n",
    "param_test3 = {'min_samples_split':np.arange(1000,2100,200), 'min_samples_leaf':np.arange(30,71,10)}\n",
    "gsearch3 = GridSearchCV(estimator = GradientBoostingClassifier(learning_rate=0.1, n_estimators=gsearch1.best_params_['n_estimators'],max_depth=gsearch2.best_params_['max_depth'],max_features='sqrt', subsample=0.8, random_state=10), \n",
    "param_grid = param_test3, scoring='roc_auc',n_jobs=4, cv=5)\n",
    "gsearch3.fit(Independent,Dependent)\n",
    "gsearch3.cv_results_, gsearch3.best_params_, gsearch3.best_score_"
   ]
  },
  {
   "cell_type": "markdown",
   "metadata": {},
   "source": [
    "###### Tune the Model with \"max_features\" parameter by trying  values from 7 to 19 in steps of 2, take the best parameter of \"min_samples_split\" and \"min_samples_leaf\"  which gives best auc on cv sample from above, create the gsearch obejct with name **gsearch4**"
   ]
  },
  {
   "cell_type": "code",
   "execution_count": 18,
   "metadata": {},
   "outputs": [
    {
     "data": {
      "text/plain": [
       "GridSearchCV(cv=5,\n",
       "             estimator=GradientBoostingClassifier(max_depth=7,\n",
       "                                                  min_samples_leaf=70,\n",
       "                                                  min_samples_split=1800,\n",
       "                                                  n_estimators=50,\n",
       "                                                  random_state=10,\n",
       "                                                  subsample=0.8),\n",
       "             n_jobs=4,\n",
       "             param_grid={'max_features': array([ 7,  9, 11, 13, 15, 17])},\n",
       "             scoring='roc_auc')"
      ]
     },
     "execution_count": 18,
     "metadata": {},
     "output_type": "execute_result"
    }
   ],
   "source": [
    "param_test4 = {'max_features':np.arange(7,19,2)}\n",
    "gsearch4 = GridSearchCV(estimator = GradientBoostingClassifier(learning_rate=0.1, min_samples_split=gsearch3.best_params_['min_samples_split'],min_samples_leaf=gsearch3.best_params_['min_samples_leaf'],n_estimators=gsearch1.best_params_['n_estimators'],max_depth=gsearch2.best_params_['max_depth'], subsample=0.8, random_state=10), \n",
    "param_grid = param_test4, scoring='roc_auc',n_jobs=4, cv=5)\n",
    "gsearch4.fit(Independent,Dependent)"
   ]
  },
  {
   "cell_type": "markdown",
   "metadata": {},
   "source": [
    "\n",
    "###### Tune the Model with the \"subsample\" parameter  by trying  values [0.6,0.7,0.75,0.8,0.85,0.9], taking the other opttimum features from above ,create the gsearch obejct with name **gsearch5**"
   ]
  },
  {
   "cell_type": "code",
   "execution_count": 19,
   "metadata": {},
   "outputs": [
    {
     "data": {
      "text/plain": [
       "GridSearchCV(cv=5,\n",
       "             estimator=GradientBoostingClassifier(max_depth=7, max_features=7,\n",
       "                                                  min_samples_leaf=70,\n",
       "                                                  min_samples_split=1800,\n",
       "                                                  n_estimators=50,\n",
       "                                                  random_state=10),\n",
       "             n_jobs=4,\n",
       "             param_grid={'subsample': [0.6, 0.7, 0.75, 0.8, 0.85, 0.9]},\n",
       "             scoring='roc_auc')"
      ]
     },
     "execution_count": 19,
     "metadata": {},
     "output_type": "execute_result"
    }
   ],
   "source": [
    "param_test5 = {'subsample':[0.6,0.7,0.75,0.8,0.85,0.9]}\n",
    "gsearch5 = GridSearchCV(estimator = GradientBoostingClassifier(learning_rate=0.1, min_samples_split=gsearch3.best_params_['min_samples_split'],min_samples_leaf=gsearch3.best_params_['min_samples_leaf'],n_estimators=gsearch1.best_params_['n_estimators'],max_depth=gsearch2.best_params_['max_depth'],max_features=gsearch4.best_params_['max_features'], random_state=10), \n",
    "param_grid = param_test5, scoring='roc_auc',n_jobs=4, cv=5)\n",
    "gsearch5.fit(Independent,Dependent)"
   ]
  },
  {
   "cell_type": "markdown",
   "metadata": {},
   "source": [
    "\n",
    "###### Create a gbm Model \"gbm_tuned1\",\"gbm_tuned2\" ,\"gbm_tuned3\" by tuning the above model by taking the best subsample by  \n",
    "###### (i)decreasing the learning rate to half, i.e. 0.05, with twice the number of trees.\n",
    "###### (ii)decreasing the learning rate to 1/20, i.e. 0.02, with 10 times number of trees.\n",
    "###### (iii)decreasing the learning rate to 1/20, i.e. 0.005, with 20 times number of trees.\n",
    "###### (iv) choose the model with leat average AUC on cross validation\n",
    "###### (v) use the model selected in step (iv) and score the test data\n",
    "\n"
   ]
  },
  {
   "cell_type": "code",
   "execution_count": 20,
   "metadata": {},
   "outputs": [
    {
     "data": {
      "text/plain": [
       "({'mean_fit_time': array([5.44836726]),\n",
       "  'std_fit_time': array([0.54569116]),\n",
       "  'mean_score_time': array([0.050631]),\n",
       "  'std_score_time': array([0.00672291]),\n",
       "  'param_learning_rate': masked_array(data=[0.05],\n",
       "               mask=[False],\n",
       "         fill_value='?',\n",
       "              dtype=object),\n",
       "  'params': [{'learning_rate': 0.05}],\n",
       "  'split0_test_score': array([0.82418574]),\n",
       "  'split1_test_score': array([0.82763263]),\n",
       "  'split2_test_score': array([0.84762766]),\n",
       "  'split3_test_score': array([0.84941339]),\n",
       "  'split4_test_score': array([0.83511346]),\n",
       "  'mean_test_score': array([0.83679458]),\n",
       "  'std_test_score': array([0.01022096]),\n",
       "  'rank_test_score': array([1], dtype=int32)},\n",
       " {'learning_rate': 0.05},\n",
       " 0.836794575404505)"
      ]
     },
     "execution_count": 20,
     "metadata": {},
     "output_type": "execute_result"
    }
   ],
   "source": [
    "param_test6={'learning_rate':[0.05]}\n",
    "gbm_tuned1=GridSearchCV(estimator = GradientBoostingClassifier(min_samples_split=gsearch3.best_params_['min_samples_split'],min_samples_leaf=gsearch3.best_params_['min_samples_leaf'],n_estimators=2*gsearch1.best_params_['n_estimators'],max_depth=gsearch2.best_params_['max_depth'],max_features=gsearch4.best_params_['max_features'],subsample=gsearch5.best_params_['subsample'], random_state=10),param_grid = param_test6, scoring='roc_auc',n_jobs=4, cv=5)\n",
    "gbm_tuned1.fit(Independent,Dependent)\n",
    "gbm_tuned1.cv_results_, gbm_tuned1.best_params_, gbm_tuned1.best_score_"
   ]
  },
  {
   "cell_type": "code",
   "execution_count": 21,
   "metadata": {},
   "outputs": [
    {
     "data": {
      "text/plain": [
       "({'mean_fit_time': array([27.07791386]),\n",
       "  'std_fit_time': array([2.57735207]),\n",
       "  'mean_score_time': array([0.2003036]),\n",
       "  'std_score_time': array([0.02942688]),\n",
       "  'param_learning_rate': masked_array(data=[0.02],\n",
       "               mask=[False],\n",
       "         fill_value='?',\n",
       "              dtype=object),\n",
       "  'params': [{'learning_rate': 0.02}],\n",
       "  'split0_test_score': array([0.82705103]),\n",
       "  'split1_test_score': array([0.83042435]),\n",
       "  'split2_test_score': array([0.84996221]),\n",
       "  'split3_test_score': array([0.84887211]),\n",
       "  'split4_test_score': array([0.83374575]),\n",
       "  'mean_test_score': array([0.83801109]),\n",
       "  'std_test_score': array([0.00955684]),\n",
       "  'rank_test_score': array([1], dtype=int32)},\n",
       " {'learning_rate': 0.02},\n",
       " 0.8380110906385291)"
      ]
     },
     "execution_count": 21,
     "metadata": {},
     "output_type": "execute_result"
    }
   ],
   "source": [
    "param_test7={'learning_rate':[0.02]}\n",
    "gbm_tuned2=GridSearchCV(estimator = GradientBoostingClassifier(min_samples_split=gsearch3.best_params_['min_samples_split'],min_samples_leaf=gsearch3.best_params_['min_samples_leaf'],n_estimators=10*gsearch1.best_params_['n_estimators'],max_depth=gsearch2.best_params_['max_depth'],max_features=gsearch4.best_params_['max_features'],subsample=gsearch5.best_params_['subsample'],random_state=10),param_grid = param_test7, scoring='roc_auc',n_jobs=4, cv=5)\n",
    "gbm_tuned2.fit(Independent,Dependent)\n",
    "gbm_tuned2.cv_results_, gbm_tuned2.best_params_, gbm_tuned2.best_score_"
   ]
  },
  {
   "cell_type": "code",
   "execution_count": 22,
   "metadata": {},
   "outputs": [
    {
     "data": {
      "text/plain": [
       "({'mean_fit_time': array([53.49482374]),\n",
       "  'std_fit_time': array([5.29341611]),\n",
       "  'mean_score_time': array([0.44671879]),\n",
       "  'std_score_time': array([0.07546798]),\n",
       "  'param_learning_rate': masked_array(data=[0.005],\n",
       "               mask=[False],\n",
       "         fill_value='?',\n",
       "              dtype=object),\n",
       "  'params': [{'learning_rate': 0.005}],\n",
       "  'split0_test_score': array([0.82652166]),\n",
       "  'split1_test_score': array([0.82875898]),\n",
       "  'split2_test_score': array([0.84877653]),\n",
       "  'split3_test_score': array([0.85060216]),\n",
       "  'split4_test_score': array([0.83686295]),\n",
       "  'mean_test_score': array([0.83830446]),\n",
       "  'std_test_score': array([0.00992901]),\n",
       "  'rank_test_score': array([1], dtype=int32)},\n",
       " {'learning_rate': 0.005},\n",
       " 0.8383044557072985)"
      ]
     },
     "execution_count": 22,
     "metadata": {},
     "output_type": "execute_result"
    }
   ],
   "source": [
    "param_test8={'learning_rate':[0.005]}\n",
    "gbm_tuned3=GridSearchCV(estimator = GradientBoostingClassifier(min_samples_split=gsearch3.best_params_['min_samples_split'],min_samples_leaf=gsearch3.best_params_['min_samples_leaf'],n_estimators=20*gsearch1.best_params_['n_estimators'],max_depth=gsearch2.best_params_['max_depth'],max_features=gsearch4.best_params_['max_features'],subsample=gsearch5.best_params_['subsample'] ,random_state=10),param_grid = param_test8, scoring='roc_auc',n_jobs=4, cv=5)\n",
    "gbm_tuned3.fit(Independent,Dependent)\n",
    "gbm_tuned3.cv_results_, gbm_tuned3.best_params_, gbm_tuned3.best_score_"
   ]
  },
  {
   "cell_type": "code",
   "execution_count": 23,
   "metadata": {},
   "outputs": [],
   "source": [
    "#The model with least average AUC on cross validation is gbm_tuned1"
   ]
  },
  {
   "cell_type": "code",
   "execution_count": 24,
   "metadata": {},
   "outputs": [
    {
     "data": {
      "text/html": [
       "<div>\n",
       "<style scoped>\n",
       "    .dataframe tbody tr th:only-of-type {\n",
       "        vertical-align: middle;\n",
       "    }\n",
       "\n",
       "    .dataframe tbody tr th {\n",
       "        vertical-align: top;\n",
       "    }\n",
       "\n",
       "    .dataframe thead th {\n",
       "        text-align: right;\n",
       "    }\n",
       "</style>\n",
       "<table border=\"1\" class=\"dataframe\">\n",
       "  <thead>\n",
       "    <tr style=\"text-align: right;\">\n",
       "      <th></th>\n",
       "      <th>ID</th>\n",
       "      <th>Gender</th>\n",
       "      <th>City</th>\n",
       "      <th>Monthly_Income</th>\n",
       "      <th>DOB</th>\n",
       "      <th>Lead_Creation_Date</th>\n",
       "      <th>Loan_Amount_Applied</th>\n",
       "      <th>Loan_Tenure_Applied</th>\n",
       "      <th>Existing_EMI</th>\n",
       "      <th>Employer_Name</th>\n",
       "      <th>...</th>\n",
       "      <th>Loan_Amount_Submitted</th>\n",
       "      <th>Loan_Tenure_Submitted</th>\n",
       "      <th>Interest_Rate</th>\n",
       "      <th>Processing_Fee</th>\n",
       "      <th>EMI_Loan_Submitted</th>\n",
       "      <th>Filled_Form</th>\n",
       "      <th>Device_Type</th>\n",
       "      <th>Var2</th>\n",
       "      <th>Source</th>\n",
       "      <th>Var4</th>\n",
       "    </tr>\n",
       "  </thead>\n",
       "  <tbody>\n",
       "    <tr>\n",
       "      <th>0</th>\n",
       "      <td>ID000026A10</td>\n",
       "      <td>Male</td>\n",
       "      <td>Dehradun</td>\n",
       "      <td>21500</td>\n",
       "      <td>03-Apr-87</td>\n",
       "      <td>05-May-15</td>\n",
       "      <td>100000.0</td>\n",
       "      <td>3.0</td>\n",
       "      <td>0.0</td>\n",
       "      <td>APTARA INC</td>\n",
       "      <td>...</td>\n",
       "      <td>100000.0</td>\n",
       "      <td>3.0</td>\n",
       "      <td>20.0</td>\n",
       "      <td>1000.0</td>\n",
       "      <td>2649.39</td>\n",
       "      <td>N</td>\n",
       "      <td>Web-browser</td>\n",
       "      <td>B</td>\n",
       "      <td>S122</td>\n",
       "      <td>3</td>\n",
       "    </tr>\n",
       "    <tr>\n",
       "      <th>1</th>\n",
       "      <td>ID000054C40</td>\n",
       "      <td>Male</td>\n",
       "      <td>Mumbai</td>\n",
       "      <td>42000</td>\n",
       "      <td>12-May-80</td>\n",
       "      <td>01-May-15</td>\n",
       "      <td>0.0</td>\n",
       "      <td>0.0</td>\n",
       "      <td>0.0</td>\n",
       "      <td>ATUL LTD</td>\n",
       "      <td>...</td>\n",
       "      <td>690000.0</td>\n",
       "      <td>5.0</td>\n",
       "      <td>24.0</td>\n",
       "      <td>13800.0</td>\n",
       "      <td>19849.90</td>\n",
       "      <td>Y</td>\n",
       "      <td>Mobile</td>\n",
       "      <td>C</td>\n",
       "      <td>S133</td>\n",
       "      <td>5</td>\n",
       "    </tr>\n",
       "    <tr>\n",
       "      <th>2</th>\n",
       "      <td>ID000066O10</td>\n",
       "      <td>Female</td>\n",
       "      <td>Jaipur</td>\n",
       "      <td>10000</td>\n",
       "      <td>19-Sep-89</td>\n",
       "      <td>01-May-15</td>\n",
       "      <td>300000.0</td>\n",
       "      <td>2.0</td>\n",
       "      <td>0.0</td>\n",
       "      <td>SHAREKHAN PVT LTD</td>\n",
       "      <td>...</td>\n",
       "      <td>NaN</td>\n",
       "      <td>NaN</td>\n",
       "      <td>NaN</td>\n",
       "      <td>NaN</td>\n",
       "      <td>NaN</td>\n",
       "      <td>N</td>\n",
       "      <td>Web-browser</td>\n",
       "      <td>B</td>\n",
       "      <td>S133</td>\n",
       "      <td>1</td>\n",
       "    </tr>\n",
       "    <tr>\n",
       "      <th>3</th>\n",
       "      <td>ID000110G00</td>\n",
       "      <td>Female</td>\n",
       "      <td>Chennai</td>\n",
       "      <td>14650</td>\n",
       "      <td>15-Aug-91</td>\n",
       "      <td>01-May-15</td>\n",
       "      <td>0.0</td>\n",
       "      <td>0.0</td>\n",
       "      <td>0.0</td>\n",
       "      <td>MAERSK GLOBAL SERVICE CENTRES</td>\n",
       "      <td>...</td>\n",
       "      <td>NaN</td>\n",
       "      <td>NaN</td>\n",
       "      <td>NaN</td>\n",
       "      <td>NaN</td>\n",
       "      <td>NaN</td>\n",
       "      <td>N</td>\n",
       "      <td>Mobile</td>\n",
       "      <td>C</td>\n",
       "      <td>S133</td>\n",
       "      <td>1</td>\n",
       "    </tr>\n",
       "    <tr>\n",
       "      <th>4</th>\n",
       "      <td>ID000113J30</td>\n",
       "      <td>Male</td>\n",
       "      <td>Chennai</td>\n",
       "      <td>23400</td>\n",
       "      <td>22-Jul-87</td>\n",
       "      <td>01-May-15</td>\n",
       "      <td>100000.0</td>\n",
       "      <td>1.0</td>\n",
       "      <td>5000.0</td>\n",
       "      <td>SCHAWK</td>\n",
       "      <td>...</td>\n",
       "      <td>100000.0</td>\n",
       "      <td>2.0</td>\n",
       "      <td>NaN</td>\n",
       "      <td>NaN</td>\n",
       "      <td>NaN</td>\n",
       "      <td>N</td>\n",
       "      <td>Web-browser</td>\n",
       "      <td>B</td>\n",
       "      <td>S143</td>\n",
       "      <td>1</td>\n",
       "    </tr>\n",
       "    <tr>\n",
       "      <th>...</th>\n",
       "      <td>...</td>\n",
       "      <td>...</td>\n",
       "      <td>...</td>\n",
       "      <td>...</td>\n",
       "      <td>...</td>\n",
       "      <td>...</td>\n",
       "      <td>...</td>\n",
       "      <td>...</td>\n",
       "      <td>...</td>\n",
       "      <td>...</td>\n",
       "      <td>...</td>\n",
       "      <td>...</td>\n",
       "      <td>...</td>\n",
       "      <td>...</td>\n",
       "      <td>...</td>\n",
       "      <td>...</td>\n",
       "      <td>...</td>\n",
       "      <td>...</td>\n",
       "      <td>...</td>\n",
       "      <td>...</td>\n",
       "      <td>...</td>\n",
       "    </tr>\n",
       "    <tr>\n",
       "      <th>37712</th>\n",
       "      <td>ID124809J40</td>\n",
       "      <td>Female</td>\n",
       "      <td>Ponda</td>\n",
       "      <td>40000</td>\n",
       "      <td>28-Dec-71</td>\n",
       "      <td>31-Jul-15</td>\n",
       "      <td>1000000.0</td>\n",
       "      <td>4.0</td>\n",
       "      <td>10000.0</td>\n",
       "      <td>GOVT EMPLOYEE</td>\n",
       "      <td>...</td>\n",
       "      <td>NaN</td>\n",
       "      <td>NaN</td>\n",
       "      <td>NaN</td>\n",
       "      <td>NaN</td>\n",
       "      <td>NaN</td>\n",
       "      <td>N</td>\n",
       "      <td>Web-browser</td>\n",
       "      <td>G</td>\n",
       "      <td>S122</td>\n",
       "      <td>3</td>\n",
       "    </tr>\n",
       "    <tr>\n",
       "      <th>37713</th>\n",
       "      <td>ID124817R20</td>\n",
       "      <td>Male</td>\n",
       "      <td>Chandigarh</td>\n",
       "      <td>20500</td>\n",
       "      <td>09-Feb-84</td>\n",
       "      <td>31-Jul-15</td>\n",
       "      <td>0.0</td>\n",
       "      <td>0.0</td>\n",
       "      <td>0.0</td>\n",
       "      <td>MAX SUPER SPECIALITY HOSPITAL MOHALI</td>\n",
       "      <td>...</td>\n",
       "      <td>330000.0</td>\n",
       "      <td>4.0</td>\n",
       "      <td>31.5</td>\n",
       "      <td>6600.0</td>\n",
       "      <td>12171.60</td>\n",
       "      <td>Y</td>\n",
       "      <td>Mobile</td>\n",
       "      <td>G</td>\n",
       "      <td>S122</td>\n",
       "      <td>5</td>\n",
       "    </tr>\n",
       "    <tr>\n",
       "      <th>37714</th>\n",
       "      <td>ID124820U00</td>\n",
       "      <td>Male</td>\n",
       "      <td>Meerut</td>\n",
       "      <td>25000</td>\n",
       "      <td>18-Dec-69</td>\n",
       "      <td>31-Jul-15</td>\n",
       "      <td>0.0</td>\n",
       "      <td>0.0</td>\n",
       "      <td>0.0</td>\n",
       "      <td>C.I.S.F</td>\n",
       "      <td>...</td>\n",
       "      <td>390000.0</td>\n",
       "      <td>4.0</td>\n",
       "      <td>NaN</td>\n",
       "      <td>NaN</td>\n",
       "      <td>NaN</td>\n",
       "      <td>N</td>\n",
       "      <td>Mobile</td>\n",
       "      <td>G</td>\n",
       "      <td>S122</td>\n",
       "      <td>3</td>\n",
       "    </tr>\n",
       "    <tr>\n",
       "      <th>37715</th>\n",
       "      <td>ID124822W20</td>\n",
       "      <td>Female</td>\n",
       "      <td>Kolkata</td>\n",
       "      <td>130000</td>\n",
       "      <td>01-Jan-72</td>\n",
       "      <td>31-Jul-15</td>\n",
       "      <td>600000.0</td>\n",
       "      <td>0.0</td>\n",
       "      <td>67000.0</td>\n",
       "      <td>TATA STEEL LTD</td>\n",
       "      <td>...</td>\n",
       "      <td>NaN</td>\n",
       "      <td>NaN</td>\n",
       "      <td>NaN</td>\n",
       "      <td>NaN</td>\n",
       "      <td>NaN</td>\n",
       "      <td>N</td>\n",
       "      <td>Web-browser</td>\n",
       "      <td>G</td>\n",
       "      <td>S122</td>\n",
       "      <td>1</td>\n",
       "    </tr>\n",
       "    <tr>\n",
       "      <th>37716</th>\n",
       "      <td>ID124823X30</td>\n",
       "      <td>Male</td>\n",
       "      <td>Delhi</td>\n",
       "      <td>30000</td>\n",
       "      <td>04-Oct-88</td>\n",
       "      <td>31-Jul-15</td>\n",
       "      <td>100000.0</td>\n",
       "      <td>1.0</td>\n",
       "      <td>4364.0</td>\n",
       "      <td>NINE A BUSINESS CONNECT PRIVATE LIMTED</td>\n",
       "      <td>...</td>\n",
       "      <td>100000.0</td>\n",
       "      <td>1.0</td>\n",
       "      <td>NaN</td>\n",
       "      <td>NaN</td>\n",
       "      <td>NaN</td>\n",
       "      <td>N</td>\n",
       "      <td>Web-browser</td>\n",
       "      <td>G</td>\n",
       "      <td>S122</td>\n",
       "      <td>3</td>\n",
       "    </tr>\n",
       "  </tbody>\n",
       "</table>\n",
       "<p>37717 rows × 24 columns</p>\n",
       "</div>"
      ],
      "text/plain": [
       "                ID  Gender        City  Monthly_Income        DOB  \\\n",
       "0      ID000026A10    Male    Dehradun           21500  03-Apr-87   \n",
       "1      ID000054C40    Male      Mumbai           42000  12-May-80   \n",
       "2      ID000066O10  Female      Jaipur           10000  19-Sep-89   \n",
       "3      ID000110G00  Female     Chennai           14650  15-Aug-91   \n",
       "4      ID000113J30    Male     Chennai           23400  22-Jul-87   \n",
       "...            ...     ...         ...             ...        ...   \n",
       "37712  ID124809J40  Female       Ponda           40000  28-Dec-71   \n",
       "37713  ID124817R20    Male  Chandigarh           20500  09-Feb-84   \n",
       "37714  ID124820U00    Male      Meerut           25000  18-Dec-69   \n",
       "37715  ID124822W20  Female     Kolkata          130000  01-Jan-72   \n",
       "37716  ID124823X30    Male       Delhi           30000  04-Oct-88   \n",
       "\n",
       "      Lead_Creation_Date  Loan_Amount_Applied  Loan_Tenure_Applied  \\\n",
       "0              05-May-15             100000.0                  3.0   \n",
       "1              01-May-15                  0.0                  0.0   \n",
       "2              01-May-15             300000.0                  2.0   \n",
       "3              01-May-15                  0.0                  0.0   \n",
       "4              01-May-15             100000.0                  1.0   \n",
       "...                  ...                  ...                  ...   \n",
       "37712          31-Jul-15            1000000.0                  4.0   \n",
       "37713          31-Jul-15                  0.0                  0.0   \n",
       "37714          31-Jul-15                  0.0                  0.0   \n",
       "37715          31-Jul-15             600000.0                  0.0   \n",
       "37716          31-Jul-15             100000.0                  1.0   \n",
       "\n",
       "       Existing_EMI                           Employer_Name  ...  \\\n",
       "0               0.0                              APTARA INC  ...   \n",
       "1               0.0                                ATUL LTD  ...   \n",
       "2               0.0                       SHAREKHAN PVT LTD  ...   \n",
       "3               0.0           MAERSK GLOBAL SERVICE CENTRES  ...   \n",
       "4            5000.0                                  SCHAWK  ...   \n",
       "...             ...                                     ...  ...   \n",
       "37712       10000.0                           GOVT EMPLOYEE  ...   \n",
       "37713           0.0    MAX SUPER SPECIALITY HOSPITAL MOHALI  ...   \n",
       "37714           0.0                                 C.I.S.F  ...   \n",
       "37715       67000.0                          TATA STEEL LTD  ...   \n",
       "37716        4364.0  NINE A BUSINESS CONNECT PRIVATE LIMTED  ...   \n",
       "\n",
       "      Loan_Amount_Submitted Loan_Tenure_Submitted  Interest_Rate  \\\n",
       "0                  100000.0                   3.0           20.0   \n",
       "1                  690000.0                   5.0           24.0   \n",
       "2                       NaN                   NaN            NaN   \n",
       "3                       NaN                   NaN            NaN   \n",
       "4                  100000.0                   2.0            NaN   \n",
       "...                     ...                   ...            ...   \n",
       "37712                   NaN                   NaN            NaN   \n",
       "37713              330000.0                   4.0           31.5   \n",
       "37714              390000.0                   4.0            NaN   \n",
       "37715                   NaN                   NaN            NaN   \n",
       "37716              100000.0                   1.0            NaN   \n",
       "\n",
       "      Processing_Fee  EMI_Loan_Submitted  Filled_Form  Device_Type  Var2  \\\n",
       "0             1000.0             2649.39            N  Web-browser     B   \n",
       "1            13800.0            19849.90            Y       Mobile     C   \n",
       "2                NaN                 NaN            N  Web-browser     B   \n",
       "3                NaN                 NaN            N       Mobile     C   \n",
       "4                NaN                 NaN            N  Web-browser     B   \n",
       "...              ...                 ...          ...          ...   ...   \n",
       "37712            NaN                 NaN            N  Web-browser     G   \n",
       "37713         6600.0            12171.60            Y       Mobile     G   \n",
       "37714            NaN                 NaN            N       Mobile     G   \n",
       "37715            NaN                 NaN            N  Web-browser     G   \n",
       "37716            NaN                 NaN            N  Web-browser     G   \n",
       "\n",
       "       Source Var4  \n",
       "0        S122    3  \n",
       "1        S133    5  \n",
       "2        S133    1  \n",
       "3        S133    1  \n",
       "4        S143    1  \n",
       "...       ...  ...  \n",
       "37712    S122    3  \n",
       "37713    S122    5  \n",
       "37714    S122    3  \n",
       "37715    S122    1  \n",
       "37716    S122    3  \n",
       "\n",
       "[37717 rows x 24 columns]"
      ]
     },
     "execution_count": 24,
     "metadata": {},
     "output_type": "execute_result"
    }
   ],
   "source": [
    "test=pd.read_csv(\"Test.csv\",encoding = \"ISO-8859-1\")\n",
    "test"
   ]
  },
  {
   "cell_type": "code",
   "execution_count": 25,
   "metadata": {},
   "outputs": [],
   "source": [
    "# 1. Dropping city variables\n",
    "test= test.drop(['City'],axis=1)\n",
    "\n",
    "# 2. Convert DOB to Age COLUMN and Drop DOB column\n",
    "test['Age']=2015-(1900+test['DOB'].str[-2:].astype(int))\n",
    "test=test.drop(['DOB'],axis=1)\n",
    "\n",
    "# 3. Create a EMI_Loan_Submitted_Missing which is 1 if EMI_Loan_Submitted is missing else 0, drop variable EMI_Loan_Submitted dropped\n",
    "test['EMI_Loan_Submitted_Missing']=np.where((test['EMI_Loan_Submitted'].notnull()),0,1)\n",
    "test=test.drop(['EMI_Loan_Submitted'],axis=1)\n",
    "\n",
    "# 4. Drop EmployerName because of too many categories\n",
    "test=test.drop(['Employer_Name'],axis=1)\n",
    "\n",
    "# 5. IMpute Existing_EMI with 0 (median) since only 111 values ARE missing\n",
    "test['Existing_EMI']=np.where(test['Existing_EMI'].isnull(),test['Existing_EMI'].median(),test['Existing_EMI'])"
   ]
  },
  {
   "cell_type": "code",
   "execution_count": 26,
   "metadata": {},
   "outputs": [],
   "source": [
    "# 6. Create Interest_Rate_Missing which is 1 if Interest_Rate was missing else 0 | Drop Original variable Interest_Rate\n",
    "test['Interest_Rate_Missing']=np.where((test['Interest_Rate'].notnull()),0,1)\n",
    "test=test.drop(['Interest_Rate'],axis=1)\n",
    "\n",
    "# 7. Drop Lead_Creation_Date because made little intuitive impact on outcome\n",
    "test=test.drop(['Lead_Creation_Date'],axis=1)\n",
    "\n",
    "# 8. Impute Loan_Amount_Applied, Loan_Tenure_Applied with median values\n",
    "test['Loan_Amount_Applied']=np.where(test['Loan_Amount_Applied'].isnull(),test['Loan_Amount_Applied'].median(),test['Loan_Amount_Applied'])\n",
    "test['Loan_Tenure_Applied']=np.where(test['Loan_Tenure_Applied'].isnull(),test['Loan_Tenure_Applied'].median(),test['Loan_Tenure_Applied'])\n",
    "\n",
    "# 9. Create Loan_Amount_Submitted_Missing which is 1 if Loan_Amount_Submitted was missing else 0 , drop Original variable Loan_Amount_Submitted\n",
    "test['Loan_Amount_Submitted_Missing']=np.where((test['Loan_Amount_Submitted'].notnull()),0,1)\n",
    "test=test.drop(['Loan_Amount_Submitted'],axis=1)\n",
    "\n",
    "# 10. Create Loan_Tenure_Submitted_Missing which is 1 if Loan_Tenure_Submitted was missing else 0, drop Original variable Loan_Tenure_Submitted\n",
    "test['Loan_Tenure_Submitted_Missing']=np.where((test['Loan_Tenure_Submitted'].notnull()),0,1)\n",
    "test=test.drop(['Loan_Tenure_Submitted'],axis=1)"
   ]
  },
  {
   "cell_type": "code",
   "execution_count": 27,
   "metadata": {},
   "outputs": [],
   "source": [
    "# 11. Drop LoggedIn, Salary_Account\n",
    "test=test.drop(['Salary_Account'],axis=1)\n",
    "\n",
    "# 12. Create Processing_Fee_Missing which is 1 if Processing_Fee was missing else 0, drop Original variable Processing_Fee\n",
    "test['Processing_Fee_Missing']=np.where((test['Processing_Fee'].notnull()),0,1)\n",
    "test=test.drop(['Processing_Fee'],axis=1)"
   ]
  },
  {
   "cell_type": "code",
   "execution_count": 28,
   "metadata": {},
   "outputs": [],
   "source": [
    "# 13. Source – top 2 kept as is and all others combined into different category\n",
    "test[\"Source\"].replace({\"S122\": 1, \"S133\": 2}, inplace=True)\n",
    "test['Source']=np.where((test['Source']==1),1,np.where(test['Source']==2,2,0))"
   ]
  },
  {
   "cell_type": "code",
   "execution_count": 29,
   "metadata": {},
   "outputs": [],
   "source": [
    "# 14. Perform Numerical and One-Hot-Coding\n",
    "test[\"Gender\"].replace({\"Male\": 1, \"Female\": 0}, inplace=True)\n",
    "test[\"Mobile_Verified\"].replace({\"Y\": 1, \"N\": 0}, inplace=True)\n",
    "test[\"Filled_Form\"].replace({\"Y\": 1, \"N\": 0}, inplace=True)\n",
    "test[\"Device_Type\"].replace({\"Web-browser\": 1, \"Mobile\": 0}, inplace=True)\n",
    "\n",
    "\n",
    "test['Var1']=le.fit_transform(test['Var1'])\n",
    "test['Var2']=le.fit_transform(test['Var2'])"
   ]
  },
  {
   "cell_type": "code",
   "execution_count": 30,
   "metadata": {},
   "outputs": [],
   "source": [
    "IndependentCols_test=test.columns.values[np.invert (pd.Series(test.columns.values).isin([\"ID\"]))]\n",
    "Independent_test=test[IndependentCols_test]\n"
   ]
  },
  {
   "cell_type": "code",
   "execution_count": 38,
   "metadata": {},
   "outputs": [
    {
     "name": "stdout",
     "output_type": "stream",
     "text": [
      "AUC: 0.8857489566920556\n"
     ]
    }
   ],
   "source": [
    "print(\"AUC:\",roc_auc_score(Dependent, gbm_tuned1.decision_function(Independent)))"
   ]
  },
  {
   "cell_type": "code",
   "execution_count": 37,
   "metadata": {},
   "outputs": [
    {
     "data": {
      "text/plain": [
       "0    37717\n",
       "Name: predicted_Disbursed, dtype: int64"
      ]
     },
     "execution_count": 37,
     "metadata": {},
     "output_type": "execute_result"
    }
   ],
   "source": [
    "test['predicted_Disbursed']=gbm_tuned1.predict(Independent_test)\n",
    "test['predicted_Disbursed'].value_counts()"
   ]
  },
  {
   "cell_type": "code",
   "execution_count": 33,
   "metadata": {},
   "outputs": [
    {
     "name": "stdout",
     "output_type": "stream",
     "text": [
      "AUC: 0.8621716258368041\n"
     ]
    }
   ],
   "source": [
    "print(\"AUC:\",roc_auc_score(Dependent, gbm0.decision_function(Independent)))"
   ]
  },
  {
   "cell_type": "code",
   "execution_count": 34,
   "metadata": {},
   "outputs": [
    {
     "data": {
      "text/plain": [
       "0    37699\n",
       "1       18\n",
       "Name: 0, dtype: int64"
      ]
     },
     "execution_count": 34,
     "metadata": {},
     "output_type": "execute_result"
    }
   ],
   "source": [
    "df=pd.DataFrame(gbm0.predict(Independent_test))\n",
    "df[0].value_counts()"
   ]
  },
  {
   "cell_type": "code",
   "execution_count": null,
   "metadata": {},
   "outputs": [],
   "source": []
  }
 ],
 "metadata": {
  "kernelspec": {
   "display_name": "Python 3 (ipykernel)",
   "language": "python",
   "name": "python3"
  },
  "language_info": {
   "codemirror_mode": {
    "name": "ipython",
    "version": 3
   },
   "file_extension": ".py",
   "mimetype": "text/x-python",
   "name": "python",
   "nbconvert_exporter": "python",
   "pygments_lexer": "ipython3",
   "version": "3.10.12"
  }
 },
 "nbformat": 4,
 "nbformat_minor": 4
}
